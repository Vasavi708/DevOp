{
  "nbformat": 4,
  "nbformat_minor": 0,
  "metadata": {
    "colab": {
      "name": "CNN.ipynb",
      "provenance": [],
      "collapsed_sections": [],
      "authorship_tag": "ABX9TyPJj81S0eLhFBVTs9t4NiW5",
      "include_colab_link": true
    },
    "kernelspec": {
      "name": "python3",
      "display_name": "Python 3"
    },
    "language_info": {
      "name": "python"
    }
  },
  "cells": [
    {
      "cell_type": "markdown",
      "metadata": {
        "id": "view-in-github",
        "colab_type": "text"
      },
      "source": [
        "<a href=\"https://colab.research.google.com/github/Vasavi708/Sample/blob/main/CNN.ipynb\" target=\"_parent\"><img src=\"https://colab.research.google.com/assets/colab-badge.svg\" alt=\"Open In Colab\"/></a>"
      ]
    },
    {
      "cell_type": "code",
      "execution_count": null,
      "metadata": {
        "id": "47TzKGQFgYQU"
      },
      "outputs": [],
      "source": [
        "import numpy as num"
      ]
    },
    {
      "cell_type": "code",
      "source": [
        "import os"
      ],
      "metadata": {
        "id": "MdbJ0AsBg73B"
      },
      "execution_count": null,
      "outputs": []
    },
    {
      "cell_type": "code",
      "source": [
        "os.getcwd()"
      ],
      "metadata": {
        "colab": {
          "base_uri": "https://localhost:8080/",
          "height": 37
        },
        "id": "Yh1aodduhAmW",
        "outputId": "0df49ba7-85a3-4e10-9f85-f8a4c8981168"
      },
      "execution_count": null,
      "outputs": [
        {
          "output_type": "execute_result",
          "data": {
            "text/plain": [
              "'/content'"
            ],
            "application/vnd.google.colaboratory.intrinsic+json": {
              "type": "string"
            }
          },
          "metadata": {},
          "execution_count": 3
        }
      ]
    },
    {
      "cell_type": "code",
      "source": [
        "os.mkdir(\"CORONA\")\n",
        "os.mkdir(\"CNN\")"
      ],
      "metadata": {
        "id": "xsCWGpYQm54T"
      },
      "execution_count": null,
      "outputs": []
    },
    {
      "cell_type": "code",
      "source": [
        "old = \"CORONA/train\"\n",
        "old1 = \"CORONA/test\"\n",
        "old2 = \"CORONA/val\"\n",
        "old3 = \"CNN/Corona_Lung_master/dataset\"\n",
        "new = \"covid\"\n",
        "new1 = \"normal\"\n",
        "\n",
        "\n",
        "x = os.path.join(old,new)\n",
        "os.makedirs(x)\n",
        "y = os.path.join(old,new1)\n",
        "os.makedirs(y)\n",
        "a = os.path.join(old1,new)\n",
        "os.makedirs(a)\n",
        "b = os.path.join(old1,new1)\n",
        "os.makedirs(b)\n",
        "l = os.path.join(old2,new)\n",
        "os.makedirs(l)\n",
        "m = os.path.join(old2,new1)\n",
        "os.makedirs(m)\n",
        "j = os.path.join(old3,new)\n",
        "os.makedirs(j)\n",
        "k = os.path.join(old3,new1)\n",
        "os.makedirs(k)\n",
        "\n"
      ],
      "metadata": {
        "id": "1-FHSnxOi9GR"
      },
      "execution_count": null,
      "outputs": []
    },
    {
      "cell_type": "code",
      "source": [
        "os.chdir(\"CNN/Corona_Lung_master/dataset/covid\")"
      ],
      "metadata": {
        "id": "hk8G3JxHkh1_"
      },
      "execution_count": null,
      "outputs": []
    },
    {
      "cell_type": "code",
      "source": [
        "os.getcwd()"
      ],
      "metadata": {
        "colab": {
          "base_uri": "https://localhost:8080/",
          "height": 37
        },
        "id": "i7beY8WxplDE",
        "outputId": "f44c859d-122d-41fe-c9f8-5254ebad6335"
      },
      "execution_count": null,
      "outputs": [
        {
          "output_type": "execute_result",
          "data": {
            "text/plain": [
              "'/content/CNN/Corona_Lung_master/dataset/covid'"
            ],
            "application/vnd.google.colaboratory.intrinsic+json": {
              "type": "string"
            }
          },
          "metadata": {},
          "execution_count": 7
        }
      ]
    },
    {
      "cell_type": "code",
      "source": [
        ""
      ],
      "metadata": {
        "id": "SQ7zuriSpoMK"
      },
      "execution_count": null,
      "outputs": []
    },
    {
      "cell_type": "code",
      "source": [
        ""
      ],
      "metadata": {
        "id": "DOI1uKR1roRM"
      },
      "execution_count": null,
      "outputs": []
    },
    {
      "cell_type": "code",
      "source": [
        ""
      ],
      "metadata": {
        "id": "Ljw5Ucq4roBw"
      },
      "execution_count": null,
      "outputs": []
    },
    {
      "cell_type": "code",
      "source": [
        ""
      ],
      "metadata": {
        "id": "YYZWaK0QrdjI"
      },
      "execution_count": null,
      "outputs": []
    }
  ]
}